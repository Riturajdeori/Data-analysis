{
 "cells": [
  {
   "cell_type": "code",
   "execution_count": null,
   "metadata": {},
   "outputs": [],
   "source": [
    "## Deep Learning with Neural Network using the mnist dataset \n",
    "'''The MNIST dataset consists of handwritten digit images\n",
    "All digit images have been size-normalized and centered in a fixed size image of 28 x 28 pixels.\n",
    "'''"
   ]
  },
  {
   "cell_type": "code",
   "execution_count": 0,
   "metadata": {
    "colab": {},
    "colab_type": "code",
    "id": "Q42AmX2_sOrQ"
   },
   "outputs": [],
   "source": [
    "#import tensorflow\n",
    "import tensorflow as tf"
   ]
  },
  {
   "cell_type": "code",
   "execution_count": 0,
   "metadata": {
    "colab": {},
    "colab_type": "code",
    "id": "gzgc9pXAs2UF"
   },
   "outputs": [],
   "source": [
    "#import mnist data \n",
    "from tensorflow.examples.tutorials.mnist import input_data"
   ]
  },
  {
   "cell_type": "code",
   "execution_count": 3,
   "metadata": {
    "colab": {
     "base_uri": "https://localhost:8080/",
     "height": 428
    },
    "colab_type": "code",
    "id": "yJ3rQAuNtMVZ",
    "outputId": "ef41c856-906b-4644-f901-dd71c93f54c8"
   },
   "outputs": [
    {
     "name": "stderr",
     "output_type": "stream",
     "text": [
      "WARNING: Logging before flag parsing goes to stderr.\n",
      "W0831 06:00:12.249200 140155797047168 deprecation.py:323] From <ipython-input-3-d7472da2d478>:1: read_data_sets (from tensorflow.contrib.learn.python.learn.datasets.mnist) is deprecated and will be removed in a future version.\n",
      "Instructions for updating:\n",
      "Please use alternatives such as official/mnist/dataset.py from tensorflow/models.\n",
      "W0831 06:00:12.252155 140155797047168 deprecation.py:323] From /usr/local/lib/python3.6/dist-packages/tensorflow/contrib/learn/python/learn/datasets/mnist.py:260: maybe_download (from tensorflow.contrib.learn.python.learn.datasets.base) is deprecated and will be removed in a future version.\n",
      "Instructions for updating:\n",
      "Please write your own downloading logic.\n",
      "W0831 06:00:12.256848 140155797047168 deprecation.py:323] From /usr/local/lib/python3.6/dist-packages/tensorflow/contrib/learn/python/learn/datasets/mnist.py:262: extract_images (from tensorflow.contrib.learn.python.learn.datasets.mnist) is deprecated and will be removed in a future version.\n",
      "Instructions for updating:\n",
      "Please use tf.data to implement this functionality.\n"
     ]
    },
    {
     "name": "stdout",
     "output_type": "stream",
     "text": [
      "Extracting /tmp/data/train-images-idx3-ubyte.gz\n"
     ]
    },
    {
     "name": "stderr",
     "output_type": "stream",
     "text": [
      "W0831 06:00:12.567579 140155797047168 deprecation.py:323] From /usr/local/lib/python3.6/dist-packages/tensorflow/contrib/learn/python/learn/datasets/mnist.py:267: extract_labels (from tensorflow.contrib.learn.python.learn.datasets.mnist) is deprecated and will be removed in a future version.\n",
      "Instructions for updating:\n",
      "Please use tf.data to implement this functionality.\n",
      "W0831 06:00:12.570863 140155797047168 deprecation.py:323] From /usr/local/lib/python3.6/dist-packages/tensorflow/contrib/learn/python/learn/datasets/mnist.py:110: dense_to_one_hot (from tensorflow.contrib.learn.python.learn.datasets.mnist) is deprecated and will be removed in a future version.\n",
      "Instructions for updating:\n",
      "Please use tf.one_hot on tensors.\n",
      "W0831 06:00:12.629580 140155797047168 deprecation.py:323] From /usr/local/lib/python3.6/dist-packages/tensorflow/contrib/learn/python/learn/datasets/mnist.py:290: DataSet.__init__ (from tensorflow.contrib.learn.python.learn.datasets.mnist) is deprecated and will be removed in a future version.\n",
      "Instructions for updating:\n",
      "Please use alternatives such as official/mnist/dataset.py from tensorflow/models.\n"
     ]
    },
    {
     "name": "stdout",
     "output_type": "stream",
     "text": [
      "Extracting /tmp/data/train-labels-idx1-ubyte.gz\n",
      "Extracting /tmp/data/t10k-images-idx3-ubyte.gz\n",
      "Extracting /tmp/data/t10k-labels-idx1-ubyte.gz\n"
     ]
    }
   ],
   "source": [
    "mnist = input_data.read_data_sets(\"/tmp/data/\",one_hot=True)"
   ]
  },
  {
   "cell_type": "code",
   "execution_count": 0,
   "metadata": {
    "colab": {},
    "colab_type": "code",
    "id": "wx8PoCzztabq"
   },
   "outputs": [],
   "source": [
    "#Create nodes\n",
    "n_nodes_hl1 = 500\n",
    "n_nodes_hl2 = 500\n",
    "n_nodes_hl3 = 500\n",
    "\n",
    "#Total no of Classes [0-9] = 10 \n",
    "n_classes = 10"
   ]
  },
  {
   "cell_type": "code",
   "execution_count": 0,
   "metadata": {
    "colab": {},
    "colab_type": "code",
    "id": "g8YJghJStdWq"
   },
   "outputs": [],
   "source": [
    "batch_size = 100\n",
    "#Create the placeholder for x ,y\n",
    "x = tf.placeholder('float',[None,784])\n",
    "y = tf.placeholder('float',[None, 10])"
   ]
  },
  {
   "cell_type": "code",
   "execution_count": 0,
   "metadata": {
    "colab": {},
    "colab_type": "code",
    "id": "YL0pGM6JuStq"
   },
   "outputs": [],
   "source": [
    "#Function to define the neural network model\n",
    "def neural_network_model(data):\n",
    "    \n",
    "  #Create the hidden layers and initialize their weights and biases\n",
    "\n",
    "  hidden_1_layer = {'weights':tf.Variable(tf.random_normal([784,n_nodes_hl1])),\n",
    "                    'biases':tf.Variable(tf.random_normal([n_nodes_hl1]))}\n",
    "  \n",
    "  hidden_2_layer = {'weights':tf.Variable(tf.random_normal([n_nodes_hl1,n_nodes_hl2])),\n",
    "                    'biases':tf.Variable(tf.random_normal([n_nodes_hl2]))}\n",
    "  \n",
    "  hidden_3_layer = {'weights':tf.Variable(tf.random_normal([n_nodes_hl2,n_nodes_hl3])),\n",
    "                    'biases':tf.Variable(tf.random_normal([n_nodes_hl3]))}\n",
    "  #Create the output layer\n",
    "  output_layer = {'weights':tf.Variable(tf.random_normal([n_nodes_hl3,n_classes])),\n",
    "                  'biases':tf.Variable(tf.random_normal([n_classes]))}\n",
    "  \n",
    "  # (input_data * weights) + biases\n",
    "  \n",
    "  l1 = tf.add(tf.matmul(data, hidden_1_layer['weights']), hidden_1_layer['biases'])\n",
    "  l1 = tf.nn.relu(l1)\n",
    "  \n",
    "  l2 = tf.add(tf.matmul(l1, hidden_2_layer['weights']),hidden_2_layer['biases'])\n",
    "  l2 = tf.nn.relu(l2)\n",
    "  \n",
    "  l3 = tf.add(tf.matmul(l2, hidden_3_layer['weights']), hidden_3_layer['biases'])\n",
    "  l3 = tf.nn.relu(l3)\n",
    "  \n",
    "  output = tf.matmul(l3, output_layer['weights']) + output_layer['biases']\n",
    "  \n",
    "  return output\n",
    "\n",
    "  \n",
    "  \n"
   ]
  },
  {
   "cell_type": "code",
   "execution_count": 0,
   "metadata": {
    "colab": {},
    "colab_type": "code",
    "id": "vjTnZlHazm0B"
   },
   "outputs": [],
   "source": [
    "#Function to train neural network\n",
    "def train_neural_network(x):\n",
    "  prediction = neural_network_model(x)\n",
    "  cost = tf.reduce_mean( tf.nn.softmax_cross_entropy_with_logits(logits=prediction,labels=y))\n",
    "  optimizer = tf.train.AdamOptimizer().minimize(cost)\n",
    "  \n",
    "  #cycles for feed forward and backward\n",
    "  hm_epochs = 10 \n",
    "  \n",
    "  with tf.Session() as sess:\n",
    "    sess.run(tf.global_variables_initializer())\n",
    "    \n",
    "    for epoch in range(hm_epochs):\n",
    "      epoch_loss = 0\n",
    "      for _ in range(int(mnist.train.num_examples/batch_size)):\n",
    "        epoch_x , epoch_y = mnist.train.next_batch(batch_size)\n",
    "        _,c = sess.run([optimizer,cost], feed_dict = { x: epoch_x,y: epoch_y})\n",
    "        epoch_loss += c\n",
    "      print('Epoch',epoch,'completed out of',hm_epochs,'loss:',epoch_loss) \n",
    "      \n",
    "      \n",
    "    correct = tf.equal(tf.argmax(prediction,1),tf.argmax(y,1))\n",
    "    accuracy = tf.reduce_mean(tf.cast(correct,'float'))\n",
    "    print('Accuracy:',accuracy.eval({x:mnist.test.images , y:mnist.test.labels}))\n",
    "    \n",
    "      "
   ]
  },
  {
   "cell_type": "code",
   "execution_count": 8,
   "metadata": {
    "colab": {
     "base_uri": "https://localhost:8080/",
     "height": 360
    },
    "colab_type": "code",
    "id": "4JabiAsUzm5p",
    "outputId": "95a3633b-f5f6-4a57-c218-be2531b11fae"
   },
   "outputs": [
    {
     "name": "stderr",
     "output_type": "stream",
     "text": [
      "W0831 06:00:12.987946 140155797047168 deprecation.py:323] From <ipython-input-7-7500629cda07>:3: softmax_cross_entropy_with_logits (from tensorflow.python.ops.nn_ops) is deprecated and will be removed in a future version.\n",
      "Instructions for updating:\n",
      "\n",
      "Future major versions of TensorFlow will allow gradients to flow\n",
      "into the labels input on backprop by default.\n",
      "\n",
      "See `tf.nn.softmax_cross_entropy_with_logits_v2`.\n",
      "\n"
     ]
    },
    {
     "name": "stdout",
     "output_type": "stream",
     "text": [
      "Epoch 0 completed out of 10 loss: 1891551.2233886719\n",
      "Epoch 1 completed out of 10 loss: 427713.9382247925\n",
      "Epoch 2 completed out of 10 loss: 242480.77868175507\n",
      "Epoch 3 completed out of 10 loss: 144649.17135596275\n",
      "Epoch 4 completed out of 10 loss: 87297.71193283796\n",
      "Epoch 5 completed out of 10 loss: 58011.99567335099\n",
      "Epoch 6 completed out of 10 loss: 44092.06710562102\n",
      "Epoch 7 completed out of 10 loss: 29357.337597887963\n",
      "Epoch 8 completed out of 10 loss: 23197.203754648566\n",
      "Epoch 9 completed out of 10 loss: 20304.096049975073\n",
      "Accuracy: 0.9533\n"
     ]
    }
   ],
   "source": [
    "#Testing\n",
    "train_neural_network(x)"
   ]
  },
  {
   "cell_type": "code",
   "execution_count": 0,
   "metadata": {
    "colab": {},
    "colab_type": "code",
    "id": "VHd60o4QIXdF"
   },
   "outputs": [],
   "source": [
    "#Accuracy : 0.95%"
   ]
  }
 ],
 "metadata": {
  "colab": {
   "name": "Untitled1.ipynb",
   "provenance": [],
   "version": "0.3.2"
  },
  "kernelspec": {
   "display_name": "Python 3",
   "language": "python",
   "name": "python3"
  },
  "language_info": {
   "codemirror_mode": {
    "name": "ipython",
    "version": 3
   },
   "file_extension": ".py",
   "mimetype": "text/x-python",
   "name": "python",
   "nbconvert_exporter": "python",
   "pygments_lexer": "ipython3",
   "version": "3.7.0"
  }
 },
 "nbformat": 4,
 "nbformat_minor": 1
}
